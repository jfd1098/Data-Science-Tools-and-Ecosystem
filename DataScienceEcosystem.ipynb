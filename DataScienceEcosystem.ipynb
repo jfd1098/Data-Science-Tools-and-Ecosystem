{
 "cells": [
  {
   "cell_type": "markdown",
   "id": "c3786082-2d7d-4f8f-a151-c88305793ff7",
   "metadata": {},
   "source": [
    "# Data Science Ecosystem"
   ]
  },
  {
   "cell_type": "markdown",
   "id": "ebdde295-9fac-48d1-b806-8aedcf361314",
   "metadata": {},
   "source": [
    "## Author:\n",
    "#### Juan Fernando Dávila "
   ]
  },
  {
   "cell_type": "markdown",
   "id": "47cf4ac4-64aa-49d3-adf1-ffb0ee23ec94",
   "metadata": {},
   "source": [
    "## In this notebook, Data Science Tools and Ecosystems are summarized"
   ]
  },
  {
   "cell_type": "markdown",
   "id": "064543fb-1a11-439a-9674-e94fd529fa63",
   "metadata": {},
   "source": [
    "**Objectives:**\n",
    "* List some of the popular languages that data scientist use\n",
    "* List some of the most commonly used libraries by data scientist\n",
    "* Show examples of arithmetic expressions in python."
   ]
  },
  {
   "cell_type": "markdown",
   "id": "b05f0105-4d9c-4eff-8037-556693279c51",
   "metadata": {},
   "source": [
    "### Some of the popular languages that Data Scientists use are:\n",
    "1. Python \n",
    "2. R \n",
    "3. Java "
   ]
  },
  {
   "cell_type": "markdown",
   "id": "2a7b5cc4-5052-4641-8229-1a4fc7c95556",
   "metadata": {},
   "source": [
    "### Some of the commonly used libraries used by Data Scientists include:\n",
    "1. Numpy\n",
    "2. dplyr\n",
    "3. Pandas"
   ]
  },
  {
   "cell_type": "markdown",
   "id": "f7c10bf3-6a83-4c82-aa2d-ffbf11f4a555",
   "metadata": {},
   "source": [
    "|Data Science Tools|\n",
    "|------------------|\n",
    "|Jypiter notebook|\n",
    "|R studiuo|\n",
    "|Apache Zepelin|"
   ]
  },
  {
   "cell_type": "markdown",
   "id": "ba7f148a-427f-4edb-9d73-f41a159bde97",
   "metadata": {},
   "source": [
    "### Below are a few examples of evaluating arithmetic expressions in Python."
   ]
  },
  {
   "cell_type": "code",
   "execution_count": 5,
   "id": "09b55073-a0c1-45be-94c7-6d7eb6179b16",
   "metadata": {},
   "outputs": [
    {
     "data": {
      "text/plain": [
       "17"
      ]
     },
     "execution_count": 5,
     "metadata": {},
     "output_type": "execute_result"
    }
   ],
   "source": [
    "(3*4)+5\n",
    "#This a simple arithmetic expression to multiply then add integers."
   ]
  },
  {
   "cell_type": "code",
   "execution_count": 6,
   "id": "b90c6016-7fe7-44c8-9f62-76e5620c2fa0",
   "metadata": {},
   "outputs": [
    {
     "data": {
      "text/plain": [
       "3.3333333333333335"
      ]
     },
     "execution_count": 6,
     "metadata": {},
     "output_type": "execute_result"
    }
   ],
   "source": [
    "# This will covert 200 minutes to hours. 1 hour=60 minutes\n",
    "200/60"
   ]
  },
  {
   "cell_type": "code",
   "execution_count": null,
   "id": "e2cbc3c2-69dc-4a4e-b237-a3a210db0e3e",
   "metadata": {},
   "outputs": [],
   "source": []
  }
 ],
 "metadata": {
  "kernelspec": {
   "display_name": "Python 3 (ipykernel)",
   "language": "python",
   "name": "python3"
  },
  "language_info": {
   "codemirror_mode": {
    "name": "ipython",
    "version": 3
   },
   "file_extension": ".py",
   "mimetype": "text/x-python",
   "name": "python",
   "nbconvert_exporter": "python",
   "pygments_lexer": "ipython3",
   "version": "3.12.8"
  }
 },
 "nbformat": 4,
 "nbformat_minor": 5
}
